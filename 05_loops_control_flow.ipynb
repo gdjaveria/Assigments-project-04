{
  "cells": [
    {
      "cell_type": "markdown",
      "metadata": {
        "id": "view-in-github",
        "colab_type": "text"
      },
      "source": [
        "<a href=\"https://colab.research.google.com/github/gdjaveria/Assigments-project-04/blob/main/05_loops_control_flow.ipynb\" target=\"_parent\"><img src=\"https://colab.research.google.com/assets/colab-badge.svg\" alt=\"Open In Colab\"/></a>"
      ]
    },
    {
      "cell_type": "code",
      "execution_count": null,
      "metadata": {
        "id": "qOocwFA8Nb4F"
      },
      "outputs": [],
      "source": [
        "\n",
        "# 00_guess_my_number.........\n",
        "\n",
        "import random\n",
        "\n",
        "def play_game():\n",
        "  secret_number = random.randint(1,100)\n",
        "  print('I am thinking a number between 1 and 100')4\n",
        "\n",
        "  guess = int(input('Take a guess:'))\n",
        "\n",
        "  while guess != secret_number:\n",
        "    if guess < secret_number:\n",
        "       print('Your guess is too low ')\n",
        "    else:\n",
        "       print('Your guess us too high ')\n",
        "    guess = int(input('Enter a guess '))\n",
        "\n",
        "    print(f' Congratulation! your guess the number was {secret_number}')\n",
        "\n",
        "if __name__ == \"__main__\":\n",
        "   play_game()\n"
      ]
    },
    {
      "cell_type": "code",
      "execution_count": null,
      "metadata": {
        "id": "DLffBy3XRb4V"
      },
      "outputs": [],
      "source": [
        "# 01_fibonacci...........\n",
        "\n",
        "max_term_value : int = 10000\n",
        "\n",
        "def main():\n",
        " a,b = 0,1\n",
        " print(a,b, end =' ')\n",
        "\n",
        " while True:\n",
        "  c= a+b\n",
        "  if c >= max_term_value:\n",
        "    break\n",
        "  print(c, end =' ')\n",
        "  a,b = b,c\n",
        "\n",
        "if __name__ == \"__main__\":\n",
        "  main()\n",
        "\n"
      ]
    },
    {
      "cell_type": "code",
      "execution_count": null,
      "metadata": {
        "id": "hCdlEzFhTfk5"
      },
      "outputs": [],
      "source": [
        "# 02_print_events...........\n",
        "\n",
        "def main():\n",
        "  for i in range(40):\n",
        "   print(i*2)\n",
        "\n",
        "if __name__ == \"__main__\":\n",
        "  main()"
      ]
    },
    {
      "cell_type": "code",
      "execution_count": null,
      "metadata": {
        "colab": {
          "background_save": true
        },
        "id": "evbxxi73UU1Q"
      },
      "outputs": [],
      "source": [
        "# 03_wholesome_machine...........\n",
        "affirmation_correct: str = \"I am capable of doing anything I put my mind to.\"\n",
        "\n",
        "def main():\n",
        "  print('Welcome to the wholesome Machine')\n",
        "  while True:\n",
        "    user_input = input('Please type the following affermation:' + affirmation_correct)\n",
        "    if user_input ==  affirmation_correct:\n",
        "       print('That is correct affirmation')\n",
        "       break\n",
        "    else:\n",
        "      print('The is incorrect affirmation..! Please try again')\n",
        "\n",
        "if __name__ ==\"__main__\":\n",
        "  main()"
      ]
    },
    {
      "cell_type": "code",
      "source": [
        "# 04_liftoff..........\n",
        "\n",
        "def main():\n",
        "  for i in range(10,0,-1):\n",
        "    print(i,end = ' ')\n",
        "  print(\"liftoff\")\n",
        "\n",
        "if __name__ ==\"__main__\":\n",
        "  main()"
      ],
      "metadata": {
        "id": "GJ-1f2DVBBC8"
      },
      "execution_count": null,
      "outputs": []
    },
    {
      "cell_type": "code",
      "source": [
        "# 05_double.........\n",
        "\n",
        "def main():\n",
        "  user_value = int(input('Enter a number:'))\n",
        "  while user_value < 100:\n",
        "    user_value = user_value * 2\n",
        "    print(user_value)\n",
        "\n",
        "if __name__ ==\"__main__\":\n",
        "  main()\n"
      ],
      "metadata": {
        "id": "WKAt8aGtCRH8"
      },
      "execution_count": null,
      "outputs": []
    }
  ],
  "metadata": {
    "colab": {
      "provenance": [],
      "authorship_tag": "ABX9TyPsFIs0S6q78NH5R0L9VnJw",
      "include_colab_link": true
    },
    "kernelspec": {
      "display_name": "Python 3",
      "name": "python3"
    },
    "language_info": {
      "name": "python"
    }
  },
  "nbformat": 4,
  "nbformat_minor": 0
}