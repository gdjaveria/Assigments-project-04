{
  "nbformat": 4,
  "nbformat_minor": 0,
  "metadata": {
    "colab": {
      "provenance": [],
      "authorship_tag": "ABX9TyPSbmPSaPVYDSwyE+rYS16j",
      "include_colab_link": true
    },
    "kernelspec": {
      "name": "python3",
      "display_name": "Python 3"
    },
    "language_info": {
      "name": "python"
    }
  },
  "cells": [
    {
      "cell_type": "markdown",
      "metadata": {
        "id": "view-in-github",
        "colab_type": "text"
      },
      "source": [
        "<a href=\"https://colab.research.google.com/github/gdjaveria/Assigments-project-04/blob/main/02_lists.ipynb\" target=\"_parent\"><img src=\"https://colab.research.google.com/assets/colab-badge.svg\" alt=\"Open In Colab\"/></a>"
      ]
    },
    {
      "cell_type": "code",
      "execution_count": null,
      "metadata": {
        "id": "DWXO64g6qYdF"
      },
      "outputs": [],
      "source": [
        "# 01_add_many_number...........\n",
        "\n",
        "def add_number(numbers)->int:\n",
        "  num:int = 0\n",
        "  for i in numbers:\n",
        "    num += i\n",
        "    return num\n",
        "\n",
        "def main():\n",
        "  numbers:list[int] = [1,2,3,4,5]\n",
        "  sum = add_number(numbers)\n",
        "  print(sum)\n",
        "\n",
        "if __name__ ==\"__main__\":\n",
        "  main()"
      ]
    },
    {
      "cell_type": "code",
      "source": [
        "# 02_double_list............\n",
        "\n",
        "def main():\n",
        "  numbers:list [int] = [1,2,3,4,5]\n",
        "  for i in range(len(numbers)):\n",
        "    index = numbers[i]\n",
        "    numbers[i] = index * 2\n",
        "\n",
        "    print(numbers)\n",
        "\n",
        "if __name__ == \"__main__\":\n",
        "    main()"
      ],
      "metadata": {
        "id": "5LtbzoexsTSw",
        "colab": {
          "base_uri": "https://localhost:8080/"
        },
        "outputId": "31a65b9f-61fe-4e99-a03d-6b4cdba6d3bb"
      },
      "execution_count": null,
      "outputs": [
        {
          "output_type": "stream",
          "name": "stdout",
          "text": [
            "[2, 2, 3, 4, 5]\n",
            "[2, 4, 3, 4, 5]\n",
            "[2, 4, 6, 4, 5]\n",
            "[2, 4, 6, 8, 5]\n",
            "[2, 4, 6, 8, 10]\n"
          ]
        }
      ]
    },
    {
      "cell_type": "code",
      "source": [
        "# 04_flowing_with_data_structures........\n",
        "\n",
        "def add_three_copies(lst, data):\n",
        " for i in range(3):\n",
        "  lst.append(data)\n",
        "\n",
        "\n",
        "def main():\n",
        "  message = input('Enter a message to copy')\n",
        "  lst = []\n",
        "  print('Before list:', lst)\n",
        "  add_three_copies(lst,message)\n",
        "  print ('After first: ',lst)\n",
        "\n",
        "if __name__ == \"__main__\":\n",
        "   main()"
      ],
      "metadata": {
        "id": "4IPugcabthIl",
        "colab": {
          "base_uri": "https://localhost:8080/"
        },
        "outputId": "fa609665-b0db-473f-8d4f-66f148bb56d9"
      },
      "execution_count": null,
      "outputs": [
        {
          "output_type": "stream",
          "name": "stdout",
          "text": [
            "Enter a message to copyhello python\n",
            "Before list: []\n",
            "After first:  ['hello python', 'hello python', 'hello python']\n"
          ]
        }
      ]
    },
    {
      "cell_type": "code",
      "source": [
        "# 05_get_first_element.............\n",
        "\n",
        "def get_first_element(lst):\n",
        "  print(lst[0])\n",
        "\n",
        "def get_lst():\n",
        "  lst = []\n",
        "  elem:str = input('Enter a element to add to the list ')\n",
        "  while elem != '':\n",
        "    lst.append(elem)\n",
        "    elem = input('Enter a element to add to the list ')\n",
        "    return lst\n",
        "\n",
        "def main():\n",
        "  lst =get_lst()\n",
        "  get_first_element(lst)\n",
        "\n",
        "\n",
        "if __name__ == \"__main__\":\n",
        "  main()"
      ],
      "metadata": {
        "colab": {
          "base_uri": "https://localhost:8080/"
        },
        "id": "ewzB_Rwe0QeY",
        "outputId": "c509aca1-ec72-4549-fbef-5cd3303f96d1"
      },
      "execution_count": null,
      "outputs": [
        {
          "output_type": "stream",
          "name": "stdout",
          "text": [
            "Enter a element to add to the list e\n",
            "Enter a element to add to the list y\n",
            "e\n"
          ]
        }
      ]
    },
    {
      "cell_type": "code",
      "source": [
        "# 06_get_last_element.........\n",
        "\n",
        "def get_last_element(lst):\n",
        "  print(lst[-1])\n",
        "\n",
        "def get_lst():\n",
        "  lst = []\n",
        "  elem:str = input('Enter a element to add to the list ')\n",
        "  while elem != '':\n",
        "    lst.append(elem)\n",
        "    elem = input('Enter a element to add to the list ')\n",
        "    return lst\n",
        "\n",
        "def main():\n",
        "  lst = get_lst()\n",
        "  get_last_element(lst)\n",
        "\n",
        "if __name__ == \"__main__\":\n",
        "    main()\n",
        "\n"
      ],
      "metadata": {
        "id": "pIo1QJOM2bEy",
        "colab": {
          "base_uri": "https://localhost:8080/"
        },
        "outputId": "d2a4d906-0f3d-41f4-c261-a12e4fdcac58"
      },
      "execution_count": null,
      "outputs": [
        {
          "output_type": "stream",
          "name": "stdout",
          "text": [
            "Enter a element to add to the list j\n",
            "Enter a element to add to the list d\n",
            "j\n"
          ]
        }
      ]
    },
    {
      "cell_type": "code",
      "source": [
        "# 07_get_list.............\n",
        "\n",
        "def main():\n",
        "  lst= []\n",
        "  val = input ('Enter a value to add to the list ')\n",
        "  while val:\n",
        "    lst.append(val)\n",
        "    val = input ('Enter a value to add to the list ')\n",
        "  print ('Here is the list ', lst)\n",
        "\n",
        "if __name__ == '__main__':\n",
        "    main()\n",
        "\n"
      ],
      "metadata": {
        "id": "HCCyfP0a5ROm",
        "colab": {
          "base_uri": "https://localhost:8080/"
        },
        "outputId": "28d2cc33-9717-4de3-d984-209844eee39c"
      },
      "execution_count": null,
      "outputs": [
        {
          "output_type": "stream",
          "name": "stdout",
          "text": [
            "Enter a value to add to the list ali\n",
            "Enter a value to add to the list anaya\n",
            "Enter a value to add to the list hadi\n",
            "Enter a value to add to the list zara\n",
            "Enter a value to add to the list zohaib\n",
            "Enter a value to add to the list \n",
            "Here is the list  ['ali', 'anaya', 'hadi', 'zara', 'zohaib']\n"
          ]
        }
      ]
    },
    {
      "cell_type": "code",
      "source": [
        "# 08_shorten...........\n",
        "\n",
        "MAX_LENGTH :int = 3\n",
        "def shorten(lst):\n",
        "  while len(lst) > MAX_LENGTH:\n",
        "   last_elem = lst.pop()\n",
        "   print(last_elem)\n",
        "\n",
        "def get_lst():\n",
        "  lst = []\n",
        "  element = input('Enter a element to add to the list ')\n",
        "  while element != '':\n",
        "    lst.append(element)\n",
        "    element = input('Enter a elemnt to add to the list ')\n",
        "    return lst\n",
        "\n",
        "def main():\n",
        "  lst = get_lst()\n",
        "  shorten(lst)\n",
        "\n",
        "\n",
        "if __name__ == \"__main__\":\n",
        "   main()"
      ],
      "metadata": {
        "id": "e_P0Rb8J6btl",
        "colab": {
          "base_uri": "https://localhost:8080/"
        },
        "outputId": "186b138d-b5e3-42cd-ae25-f579ca2a655f"
      },
      "execution_count": null,
      "outputs": [
        {
          "name": "stdout",
          "output_type": "stream",
          "text": [
            "Enter a element to add to the list j\n",
            "Enter a elemnt to add to the list u\n"
          ]
        }
      ]
    },
    {
      "cell_type": "code",
      "source": [],
      "metadata": {
        "id": "bh_lZQqDAuNn"
      },
      "execution_count": null,
      "outputs": []
    }
  ]
}