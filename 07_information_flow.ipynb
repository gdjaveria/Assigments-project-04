{
  "nbformat": 4,
  "nbformat_minor": 0,
  "metadata": {
    "colab": {
      "provenance": [],
      "authorship_tag": "ABX9TyN+XBHEw5gLqb/AZ77U+MF+",
      "include_colab_link": true
    },
    "kernelspec": {
      "name": "python3",
      "display_name": "Python 3"
    },
    "language_info": {
      "name": "python"
    }
  },
  "cells": [
    {
      "cell_type": "markdown",
      "metadata": {
        "id": "view-in-github",
        "colab_type": "text"
      },
      "source": [
        "<a href=\"https://colab.research.google.com/github/gdjaveria/Assigments-project-04/blob/main/07_information_flow.ipynb\" target=\"_parent\"><img src=\"https://colab.research.google.com/assets/colab-badge.svg\" alt=\"Open In Colab\"/></a>"
      ]
    },
    {
      "cell_type": "code",
      "execution_count": 4,
      "metadata": {
        "colab": {
          "base_uri": "https://localhost:8080/"
        },
        "id": "eiWBKZlj8GKe",
        "outputId": "b2014ca2-898c-409e-db9d-b4354fb4534b"
      },
      "outputs": [
        {
          "output_type": "stream",
          "name": "stdout",
          "text": [
            "Choose one of the following options: A, B, C, or D\n",
            "Enter your choice:A\n",
            "You choose option A\n"
          ]
        }
      ],
      "source": [
        "# 00_choosing_returns.md........\n",
        "\n",
        "def choose_return(option):\n",
        "  if option == \"A\":\n",
        "      return \"You choose option A\"\n",
        "  elif option == \"B\":\n",
        "      return \"You choose option B\"\n",
        "  elif option == \"C\":\n",
        "      return \"You choose option C\"\n",
        "  elif option == \"D\":\n",
        "      return \"You choose option D\"\n",
        "  else:\n",
        "      return \"Invalid option. please chosse A, B, C, or D\"\n",
        "\n",
        "def main():\n",
        "  print(f\"Choose one of the following options: A, B, C, or D\")\n",
        "  option = input(\"Enter your choice:\")\n",
        "\n",
        "  result = choose_return(option)\n",
        "  print(result)\n",
        "\n",
        "if __name__ == \"__main__\":\n",
        "  main()\n"
      ]
    },
    {
      "cell_type": "code",
      "source": [
        "# 01_greetings.md......\n",
        "\n",
        "def greet(name):\n",
        "  return f\"Hello, {name}! Welcome to the program.\"\n",
        "\n",
        "\n",
        "def main():\n",
        "  name = input(\"Please enter your name: \")\n",
        "  greeting_message = greet(name)\n",
        "  print(greeting_message)\n",
        "\n",
        "if __name__ == \"__main__\":\n",
        "  main()\n",
        "\n"
      ],
      "metadata": {
        "colab": {
          "base_uri": "https://localhost:8080/"
        },
        "id": "HzoHAXu--Ieb",
        "outputId": "00d0eb22-9de4-4a59-c148-ab02a3154b05"
      },
      "execution_count": 5,
      "outputs": [
        {
          "output_type": "stream",
          "name": "stdout",
          "text": [
            "Please enter your name: javeria\n",
            "Hello, javeria! Welcome to the program.\n"
          ]
        }
      ]
    },
    {
      "cell_type": "code",
      "source": [
        "# 02_in_range.md.......\n",
        "\n",
        "def is_in_range(number,start,end):\n",
        "  if start <= number <= end:\n",
        "    return True\n",
        "  else:\n",
        "    return False\n",
        "\n",
        "def main():\n",
        "  try:\n",
        "    num =int(input(\"Enter a number:\"))\n",
        "    start = int(input(\"Enter the start of the range:\"))\n",
        "    end = int(input(\"Enter the end of the range:\"))\n",
        "  except ValueError:\n",
        "    print(\"Invalid input. Please enter a valid number.\")\n",
        "    return\n",
        "\n",
        "  if is_in_range(num,start,end):\n",
        "    print(f\"{num} is in the range from {start} to {end}.\")\n",
        "  else:\n",
        "    print(f\"{num} is not with in the range of {start} and {end}\")\n",
        "\n",
        "if __name__ == \"__main__\":\n",
        "  main()\n"
      ],
      "metadata": {
        "colab": {
          "base_uri": "https://localhost:8080/"
        },
        "id": "CvLX9bW7-snD",
        "outputId": "16d24176-d607-46e2-a2f8-f085a4c990fa"
      },
      "execution_count": 9,
      "outputs": [
        {
          "output_type": "stream",
          "name": "stdout",
          "text": [
            "Enter a number:37\n",
            "Enter the start of the range:7\n",
            "Enter the end of the range:60\n",
            "37 is in the range from 7 to 60.\n"
          ]
        }
      ]
    },
    {
      "cell_type": "code",
      "source": [
        "# 03_in_stock.md..........\n",
        "def is_in_stock(product,stock):\n",
        "  if product in stock:\n",
        "    return True\n",
        "  else:\n",
        "    return False\n",
        "\n",
        "def main():\n",
        "  stock_grocery = {\n",
        "      \"kiwi\":  8,\n",
        "      \"orange\": 10,\n",
        "      \"banana\": 15,\n",
        "      \"cherry\": 20,\n",
        "      \"mangoes\":7,\n",
        "      \"strawbeery\":12,\n",
        "    }\n",
        "\n",
        "  product = input(\"Enter the product name to check its in stock:\").lower()\n",
        "\n",
        "  if is_in_stock(product,stock_grocery):\n",
        "    print(f\"{product.capitalize()} is in stock.....!\")\n",
        "  else:\n",
        "    print(f\"{product.capitalize()} is not in stock.....!\")\n",
        "\n",
        "if __name__ == \"__main__\":\n",
        "  main()"
      ],
      "metadata": {
        "colab": {
          "base_uri": "https://localhost:8080/"
        },
        "id": "0BFRhb1GA2TF",
        "outputId": "410fdcf1-256d-4b20-d94d-35138c8471a8"
      },
      "execution_count": 12,
      "outputs": [
        {
          "output_type": "stream",
          "name": "stdout",
          "text": [
            "Enter the product name to check its in stock:kiwi\n",
            "Kiwi is in stock.....!\n"
          ]
        }
      ]
    },
    {
      "cell_type": "code",
      "source": [
        "# 04_multiple_returns.md.......\n",
        "\n",
        "import math\n",
        "\n",
        "def number_analyze(number):\n",
        "  square = number ** 2\n",
        "  cube = number ** 3\n",
        "  sqr_root = math.sqrt(number)\n",
        "  return square, cube, sqr_root\n",
        "\n",
        "def main():\n",
        "  try:\n",
        "    num = float(input(\"Enter a number:\"))\n",
        "  except ValueError:\n",
        "    print(\"Invalid input. Please enter a valid number.\")\n",
        "    return\n",
        "\n",
        "  square, cube, sqr_root = number_analyze(num)\n",
        "\n",
        "  print(f\"The square of {num} is {square}\")\n",
        "  print(f\"The cube of {num} is {cube}\")\n",
        "  print(f\"The square root of {num} is {sqr_root}\")\n",
        "\n",
        "if __name__ == \"__main__\":\n",
        "  main()\n"
      ],
      "metadata": {
        "colab": {
          "base_uri": "https://localhost:8080/"
        },
        "id": "TxIxRPx9DJcn",
        "outputId": "a6219f51-0896-4ff1-8c36-80ab6c0eb2d6"
      },
      "execution_count": 13,
      "outputs": [
        {
          "output_type": "stream",
          "name": "stdout",
          "text": [
            "Enter a number:4\n",
            "The square of 4.0 is 16.0\n",
            "The cube of 4.0 is 64.0\n",
            "The square root of 4.0 is 2.0\n"
          ]
        }
      ]
    },
    {
      "cell_type": "code",
      "source": [
        "# 05_subtract_7.md.......\n",
        "\n",
        "def subtract_seven(number):\n",
        "  return number -7\n",
        "\n",
        "def main():\n",
        "  try:\n",
        "    num = float(input(\"Enter a number:\"))\n",
        "  except ValueError:\n",
        "    print(\"Invalid input. Please enter a valid number.\")\n",
        "    return\n",
        "\n",
        "  result = subtract_seven(num)\n",
        "  print(f\" After subtracting 7 from {num} is {result}\")\n",
        "\n",
        "if __name__ == \"__main__\":\n",
        "  main()"
      ],
      "metadata": {
        "colab": {
          "base_uri": "https://localhost:8080/"
        },
        "id": "LoeAtqe4D2QO",
        "outputId": "c65c8424-651c-44d4-b309-1b0dbdd8fe52"
      },
      "execution_count": 14,
      "outputs": [
        {
          "output_type": "stream",
          "name": "stdout",
          "text": [
            "Enter a number:40\n",
            " After subtracting 7 from 40.0 is 33.0\n"
          ]
        }
      ]
    }
  ]
}