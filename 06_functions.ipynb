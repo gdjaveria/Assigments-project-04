{
  "nbformat": 4,
  "nbformat_minor": 0,
  "metadata": {
    "colab": {
      "provenance": [],
      "authorship_tag": "ABX9TyODcTIj/Xm4T0ONtIZAjG1m",
      "include_colab_link": true
    },
    "kernelspec": {
      "name": "python3",
      "display_name": "Python 3"
    },
    "language_info": {
      "name": "python"
    }
  },
  "cells": [
    {
      "cell_type": "markdown",
      "metadata": {
        "id": "view-in-github",
        "colab_type": "text"
      },
      "source": [
        "<a href=\"https://colab.research.google.com/github/gdjaveria/Assigments-project-04/blob/main/06_functions.ipynb\" target=\"_parent\"><img src=\"https://colab.research.google.com/assets/colab-badge.svg\" alt=\"Open In Colab\"/></a>"
      ]
    },
    {
      "cell_type": "code",
      "execution_count": 5,
      "metadata": {
        "id": "4m1ksuaa2Zbu",
        "colab": {
          "base_uri": "https://localhost:8080/"
        },
        "outputId": "6f3b15b5-0ca8-4400-ddce-7104de251010"
      },
      "outputs": [
        {
          "output_type": "stream",
          "name": "stdout",
          "text": [
            "Enter numbers separeted by commas:\n",
            "→ 88,54\n",
            "Average of the given numbers: 71.00\n"
          ]
        }
      ],
      "source": [
        "# 00_averages.md.........\n",
        "\n",
        "def calculate_average(numbers):\n",
        "  if not numbers:\n",
        "    return 0\n",
        "  return sum(numbers) / len(numbers)\n",
        "\n",
        "def main():\n",
        "  print(\"Enter numbers separeted by commas:\")\n",
        "  user_input = input(\"→ \")\n",
        "\n",
        "  try:\n",
        "    number_list = [float(num.strip()) for num in user_input.split(',')]\n",
        "  except ValueError:\n",
        "    print(\" Invalid input. Please enter valid numbers separated by commas.\")\n",
        "    return\n",
        "\n",
        "  avg = calculate_average(number_list)\n",
        "  print(f'Average of the given numbers: {avg:.2f}')\n",
        "\n",
        "if __name__ == \"__main__\":\n",
        "    main()\n"
      ]
    },
    {
      "cell_type": "code",
      "source": [
        "# 01_chaotic_counting.md..........\n",
        "\n",
        "import random\n",
        "import time\n",
        "\n",
        "def chaotic_counting(start, end , delay = 0.6):\n",
        "  numbers = list(range(start, end + 1))\n",
        "  random.shuffle(numbers)\n",
        "\n",
        "  print(\" Chaotic count Begins.....\")\n",
        "  for num in numbers:\n",
        "    print(\"num\")\n",
        "    time.sleep(delay)\n",
        "    print(\" Done with chaotic counting....!\")\n",
        "\n",
        "def main():\n",
        "  print(\"Enter start and end numbers for chaotic counting:\")\n",
        "  try:\n",
        "    start = int(input(\"Start \"))\n",
        "    end = int(input(\"End \"))\n",
        "\n",
        "    if start > end:\n",
        "      print(\"Start be less than or equal to end!\")\n",
        "      return\n",
        "\n",
        "      chaotic_counting(start, end)\n",
        "  except ValueError:\n",
        "    print(\"Invalid input. Please enter valid integers for start and end.\")\n",
        "\n",
        "if __name__ == \"__main__\":\n",
        "  main()\n",
        "\n",
        "\n",
        ""
      ],
      "metadata": {
        "colab": {
          "base_uri": "https://localhost:8080/"
        },
        "id": "qOZT6sORrDiR",
        "outputId": "f2642be1-905d-4180-d0af-ea8dffb98a24"
      },
      "execution_count": 7,
      "outputs": [
        {
          "name": "stdout",
          "output_type": "stream",
          "text": [
            "Enter start and end numbers for chaotic counting:\n",
            "Start 10\n",
            "End 50\n"
          ]
        }
      ]
    },
    {
      "cell_type": "code",
      "source": [
        "# 02_count_even.md.............\n",
        "\n",
        "def count_even_numbers(numbers):\n",
        "  even_numbers = [num for num in numbers if num % 2 == 0]\n",
        "  return len(even_numbers) , even_numbers\n",
        "\n",
        "def main():\n",
        "  print(\"Enter numbers separated by commas:\")\n",
        "  user_input = input(\"→\")\n",
        "\n",
        "  try:\n",
        "    number_list = [int(num.strip()) for num in user_input.split(\",\")]\n",
        "  except ValueError:\n",
        "    print(\"Invalid input! please enetr integers only.\")\n",
        "    return\n",
        "\n",
        "  count , evens = count_even_numbers(number_list)\n",
        "  print(f\" Total even numbers: {count}\")\n",
        "  print(f\" Even numbers: {evens}\")\n",
        "\n",
        "if __name__ == \"__main__\":\n",
        "  main()"
      ],
      "metadata": {
        "colab": {
          "base_uri": "https://localhost:8080/"
        },
        "id": "AZjdcjHitZnb",
        "outputId": "46327efb-1f75-46bf-86fc-b1d6c3e3b764"
      },
      "execution_count": 8,
      "outputs": [
        {
          "output_type": "stream",
          "name": "stdout",
          "text": [
            "Enter numbers separated by commas:\n",
            "→55,24,44,12\n",
            " Total even numbers: 3\n",
            " Even numbers: [24, 44, 12]\n"
          ]
        }
      ]
    },
    {
      "cell_type": "code",
      "source": [
        "# 04_double.md..........\n",
        "\n",
        "def double_numbers(numbers):\n",
        "  return [ num * 2 for num in numbers]\n",
        "\n",
        "def main():\n",
        "  print(\" Enter numbers seprated by commas to double:\")\n",
        "  user_input = input(\"→\")\n",
        "\n",
        "  try:\n",
        "    number_list = [int(num.strip()) for num in user_input.split(\",\")]\n",
        "  except ValueError:\n",
        "    print(\"Invalid input! Please enter valid integers numbers only.\")\n",
        "    return\n",
        "\n",
        "  doubled = double_numbers(number_list)\n",
        "  print(f\" Double numbers: {doubled}\")\n",
        "\n",
        "if __name__ == \"__main__\":\n",
        "  main()\n",
        "\n"
      ],
      "metadata": {
        "colab": {
          "base_uri": "https://localhost:8080/"
        },
        "id": "8H3eAYqCwKjU",
        "outputId": "ce0c0a8b-4b32-4420-92e5-46ef792b58c3"
      },
      "execution_count": 9,
      "outputs": [
        {
          "output_type": "stream",
          "name": "stdout",
          "text": [
            " Enter numbers seprated by commas to double:\n",
            "→2,5,6,9,12\n",
            " Double numbers: [4, 10, 12, 18, 24]\n"
          ]
        }
      ]
    },
    {
      "cell_type": "code",
      "source": [
        "# 05_get_name.md.........\n",
        "\n",
        "def get_name():\n",
        "  name = input (\" What's your name? \").strip()\n",
        "\n",
        "  if not name:\n",
        "    print(\" You didn't enter a name. Please try again.\")\n",
        "  else:\n",
        "    print(f\" Hello, {name}! Welcome to the program.\")\n",
        "\n",
        "def main():\n",
        "  get_name()\n",
        "\n",
        "if __name__ == \"__main__\":\n",
        "  main()\n",
        "\n"
      ],
      "metadata": {
        "colab": {
          "base_uri": "https://localhost:8080/"
        },
        "id": "2p94NFcnxqOI",
        "outputId": "98b672e6-7ee5-46c9-80a0-2f17c7251b6b"
      },
      "execution_count": 10,
      "outputs": [
        {
          "output_type": "stream",
          "name": "stdout",
          "text": [
            " What's your name? zara\n",
            " Hello, zara! Welcome to the program.\n"
          ]
        }
      ]
    },
    {
      "cell_type": "code",
      "source": [
        "# 06_is_odd.md........\n",
        "\n",
        "def is_odd(number):\n",
        "  return number % 2 != 0\n",
        "\n",
        "def main():\n",
        "  try:\n",
        "    num = int(input(\" Enter a number to check if it's odd: \"))\n",
        "  except ValueError:\n",
        "    print(\" Inavalid input! please enter a valid integer.\")\n",
        "    return\n",
        "\n",
        "  if is_odd(num):\n",
        "      print(f\"{num} is an odd number.\")\n",
        "  else:\n",
        "      print(f\"{num} is not an odd number.\")\n",
        "\n",
        "if __name__ == \"main\":\n",
        "  main()"
      ],
      "metadata": {
        "id": "uNDL04J0yYVP"
      },
      "execution_count": 15,
      "outputs": []
    },
    {
      "cell_type": "code",
      "source": [
        "# 07_print_divisor.md..........\n",
        "\n",
        "def print_divisor(n):\n",
        "  print(f\" Divisors of {n} are:\")\n",
        "  for i in range(1, n + 1):\n",
        "    if n % i == 0:\n",
        "      print(i)\n",
        "\n",
        "def main():\n",
        "  try:\n",
        "    num = int (input(\" Enter a number to print its divisors: \"))\n",
        "    if num <= 0:\n",
        "      print(\"Please enter a positive integer greter than 0\")\n",
        "      return\n",
        "\n",
        "  except ValueError:\n",
        "    print(\" Invalid input! Please enter a valid integer number.\")\n",
        "    return\n",
        "\n",
        "  print_divisor(num)\n",
        "\n",
        "if __name__ == \"__main__\":\n",
        "  main()\n"
      ],
      "metadata": {
        "colab": {
          "base_uri": "https://localhost:8080/"
        },
        "id": "hPAybjX7znpF",
        "outputId": "a21cae5f-34f4-4af6-f3f8-ec28747788a8"
      },
      "execution_count": 16,
      "outputs": [
        {
          "output_type": "stream",
          "name": "stdout",
          "text": [
            " Enter a number to print its divisors: 24\n",
            " Divisors of 24 are:\n",
            "1\n",
            "2\n",
            "3\n",
            "4\n",
            "6\n",
            "8\n",
            "12\n",
            "24\n"
          ]
        }
      ]
    },
    {
      "cell_type": "code",
      "source": [
        "# 08_print_multiple.md........\n",
        "\n",
        "def print_multiples(n,count):\n",
        "  print(f\"First {count} multiples of {n} are:\")\n",
        "  for i in range(1, count + 1):\n",
        "    print(f\"{n} * {i} = {n * i}\")\n",
        "\n",
        "def main():\n",
        "  try:\n",
        "    num = int(input(\" Enter a number to print its multiples: \"))\n",
        "    count = int(input(\" Enter the number of multiples to print: \"))\n",
        "    if num <= 0 or count <= 0:\n",
        "      print(\" Please enter positive integers for numbers\")\n",
        "      return\n",
        "\n",
        "  except ValueError:\n",
        "    print(\" Invalid input! Please enter valid integers numbers.\")\n",
        "    return\n",
        "\n",
        "  print_multiples(num, count)\n",
        "\n",
        "if __name__ == \"__main__\":\n",
        "  main()\n"
      ],
      "metadata": {
        "colab": {
          "base_uri": "https://localhost:8080/"
        },
        "id": "ssyLvT8T0pmj",
        "outputId": "50a8fab3-9dc3-4b27-8ebe-8045f5ba8ae1"
      },
      "execution_count": 17,
      "outputs": [
        {
          "output_type": "stream",
          "name": "stdout",
          "text": [
            " Enter a number to print its multiples: 43\n",
            " Enter the number of multiples to print: 10\n",
            "First 10 multiples of 43 are:\n",
            "43 * 1 = 43\n",
            "43 * 2 = 86\n",
            "43 * 3 = 129\n",
            "43 * 4 = 172\n",
            "43 * 5 = 215\n",
            "43 * 6 = 258\n",
            "43 * 7 = 301\n",
            "43 * 8 = 344\n",
            "43 * 9 = 387\n",
            "43 * 10 = 430\n"
          ]
        }
      ]
    },
    {
      "cell_type": "code",
      "source": [
        "#09_sentence_generator.md...........\n",
        "\n",
        "import random\n",
        "\n",
        "nouns = [\"cats\",\"Teacher\",\"Car\",\"City\",\"Mount Everest\"]\n",
        "verbs = [\"Eat\", \"Jump\",\"Write\",\"Drive\",\"Read\"]\n",
        "places =[\"Nile River\",\"Airport\",\"Ocean\",\"Mesum\"]\n",
        "\n",
        "def generate_sentence():\n",
        "  noun = random.choice(nouns)\n",
        "  verb = random.choice(verbs)\n",
        "  place = random.choice(places)\n",
        "  return f\" The {noun} {verb} {place}\"\n",
        "\n",
        "def main():\n",
        "  try:\n",
        "    count = int(input(\"How many sentences do you want to generate? \"))\n",
        "    if count <= 0:\n",
        "      print(\"Please enter a positive integer numbers only.\")\n",
        "      return\n",
        "  except ValueError:\n",
        "    print(\"Invalid input! Please enter a valid integer.\")\n",
        "    return\n",
        "\n",
        "  print(\"\\n Generated Sentences..!\")\n",
        "  for _ in range(count):\n",
        "    print(\"➤\",generate_sentence())\n",
        "\n",
        "if __name__ == \"__main__\":\n",
        "  main()\n",
        "\n"
      ],
      "metadata": {
        "colab": {
          "base_uri": "https://localhost:8080/"
        },
        "id": "H8M8Cb9D13ZY",
        "outputId": "14cc4fb5-09a8-4497-9933-32cfdb92ab41"
      },
      "execution_count": 20,
      "outputs": [
        {
          "output_type": "stream",
          "name": "stdout",
          "text": [
            "How many sentences do you want to generate? 3\n",
            "\n",
            " Generated Sentences..!\n",
            "➤  The Car Read Mesum\n",
            "➤  The City Write Nile River\n",
            "➤  The Mount Everest Write Ocean\n"
          ]
        }
      ]
    },
    {
      "cell_type": "code",
      "source": [
        "# 10_print_ones_digit.md........\n",
        "\n",
        "def get_one_digit(number):\n",
        "  return abs(number) % 10\n",
        "\n",
        "def main():\n",
        "  try:\n",
        "    num = int(input(\" Enter a number to get its ones digit: \"))\n",
        "  except ValueError:\n",
        "    print(\" Invalid input! Please enter a valid integer number.\")\n",
        "    return\n",
        "\n",
        "  ones_digit = get_one_digit(num)\n",
        "  print(f\" The ones digit of {num} is {ones_digit}.\")\n",
        "\n",
        "if __name__ == \"__main__\":\n",
        "  main()\n"
      ],
      "metadata": {
        "colab": {
          "base_uri": "https://localhost:8080/"
        },
        "id": "pFBFZ_UN5-JF",
        "outputId": "b0166732-d3d6-4a27-bfe5-0b3c80c2654d"
      },
      "execution_count": 22,
      "outputs": [
        {
          "output_type": "stream",
          "name": "stdout",
          "text": [
            " Enter a number to get its ones digit: 77432\n",
            " The ones digit of 77432 is 2.\n"
          ]
        }
      ]
    }
  ]
}