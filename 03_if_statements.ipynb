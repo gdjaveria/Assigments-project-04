{
  "nbformat": 4,
  "nbformat_minor": 0,
  "metadata": {
    "colab": {
      "provenance": [],
      "authorship_tag": "ABX9TyMUvFlhZ4H/uPSmvvmbF/Ec",
      "include_colab_link": true
    },
    "kernelspec": {
      "name": "python3",
      "display_name": "Python 3"
    },
    "language_info": {
      "name": "python"
    }
  },
  "cells": [
    {
      "cell_type": "markdown",
      "metadata": {
        "id": "view-in-github",
        "colab_type": "text"
      },
      "source": [
        "<a href=\"https://colab.research.google.com/github/gdjaveria/Assigments-project-04/blob/main/03_if_statements.ipynb\" target=\"_parent\"><img src=\"https://colab.research.google.com/assets/colab-badge.svg\" alt=\"Open In Colab\"/></a>"
      ]
    },
    {
      "cell_type": "code",
      "execution_count": null,
      "metadata": {
        "id": "fhX9hopBMSIl"
      },
      "outputs": [],
      "source": [
        "# 01_print_events.........\n",
        "\n",
        "def even_number():\n",
        "  for i in range(40):\n",
        "    even = i*2\n",
        "    print(even)\n",
        "\n",
        "\n",
        "if __name__ == \"__main__\":\n",
        "    even_number()\n"
      ]
    },
    {
      "cell_type": "code",
      "source": [
        "# 02_international_voting_age........\n",
        "\n",
        "\n",
        "def voting_age():\n",
        "     age = int(input('How old are you? '))\n",
        "\n",
        "     if age >= 16:\n",
        "        print('you can vote in peturksbouipo if your age is 16.')\n",
        "     else:\n",
        "        print('you can not vote in peturksbouipo if your age is 16.')\n",
        "\n",
        "     if age >= 25:\n",
        "        print('your can vote in Stanlau if your age is 25.')\n",
        "     else:\n",
        "        print('your can not vote in Stanlau if your age is 25.')\n",
        "\n",
        "     if age >= 48:\n",
        "        print('your can vote in Mayengua if your age is 48.')\n",
        "     else:\n",
        "        print('your can vote in Mayengua if your age is 48.')\n",
        "\n",
        "\n",
        "if __name__ == \"__main__\":\n",
        "    voting_age()"
      ],
      "metadata": {
        "id": "EcLywOaGSgad",
        "colab": {
          "base_uri": "https://localhost:8080/"
        },
        "outputId": "c934bb46-64d0-49e2-defc-c35bc3e7a190"
      },
      "execution_count": null,
      "outputs": [
        {
          "output_type": "stream",
          "name": "stdout",
          "text": [
            "How old are you? 10\n",
            "you can not vote in peturksbouipo if your age is 16.\n",
            "your can not vote in Stanlau if your age is 25.\n",
            "your can vote in Mayengua if your age is 48.\n"
          ]
        }
      ]
    },
    {
      "cell_type": "code",
      "source": [
        "# 03_leap_year..........\n",
        "\n",
        "def leap_year():\n",
        "  year:int = int(input('Enter a year:'))\n",
        "\n",
        "  if year % 4 == 0 :\n",
        "        if year % 100 == 0:\n",
        "          if year % 400 == 0:\n",
        "            print(f'{year} is a leap year')\n",
        "          else:\n",
        "            print(f'{year} is not a leap year')\n",
        "        else:\n",
        "          print(f'{year} is a leap year')\n",
        "  else:\n",
        "        print(f'{year} is not a leap year')\n",
        "\n",
        "\n",
        "if __name__ == \"__main__\":\n",
        "  leap_year()\n"
      ],
      "metadata": {
        "colab": {
          "base_uri": "https://localhost:8080/"
        },
        "id": "XFf3p4uVY9B9",
        "outputId": "8ee6a6b9-f962-4000-c2b4-bee82bb34d91"
      },
      "execution_count": null,
      "outputs": [
        {
          "output_type": "stream",
          "name": "stdout",
          "text": [
            "Enter a year:45\n",
            "45 is not a leap year\n"
          ]
        }
      ]
    },
    {
      "cell_type": "code",
      "source": [
        "# 04_tall_enough_to_ride.........\n",
        "\n",
        "min_height :int = 50\n",
        "\n",
        "def main():\n",
        "  height:int = int(input('How tall are you?'))\n",
        "  if height >= min_height:\n",
        "    print('you are tall enough to ride')\n",
        "  else:\n",
        "    print('you are not tall enough to ride,but maybe next year!')\n",
        "\n",
        "if __name__ == \"__main__\":\n",
        "      main()\n"
      ],
      "metadata": {
        "colab": {
          "base_uri": "https://localhost:8080/"
        },
        "id": "driS8uHwcjNe",
        "outputId": "32b174d5-fc0a-4680-cda4-f8c4a683a5bc"
      },
      "execution_count": null,
      "outputs": [
        {
          "output_type": "stream",
          "name": "stdout",
          "text": [
            "How tall are you?40\n",
            "you are not tall enough to ride,but maybe next year!\n"
          ]
        }
      ]
    },
    {
      "cell_type": "code",
      "source": [
        "# 05_random_numbers..........\n",
        "\n",
        "import random\n",
        "\n",
        "numbers: int =10\n",
        "minmum_val: int = 1\n",
        "max_value: int=100\n",
        "\n",
        "def main():\n",
        "    for i in range(10):\n",
        "      number:list[int] = random.randint(minmum_val,max_value)\n",
        "      print(number)\n",
        "\n",
        "if __name__ == '__main__':\n",
        "    main()\n",
        "\n"
      ],
      "metadata": {
        "colab": {
          "base_uri": "https://localhost:8080/"
        },
        "id": "7m0Zrn72eW81",
        "outputId": "c54bbabb-377c-475a-c034-22c1d26cb592"
      },
      "execution_count": null,
      "outputs": [
        {
          "output_type": "stream",
          "name": "stdout",
          "text": [
            "17\n",
            "44\n",
            "40\n",
            "16\n",
            "42\n",
            "51\n",
            "66\n",
            "73\n",
            "31\n",
            "35\n"
          ]
        }
      ]
    }
  ]
}