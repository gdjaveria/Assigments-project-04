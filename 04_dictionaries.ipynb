{
  "nbformat": 4,
  "nbformat_minor": 0,
  "metadata": {
    "colab": {
      "provenance": [],
      "authorship_tag": "ABX9TyPQokQlLtoWsarqJOG5a8tT",
      "include_colab_link": true
    },
    "kernelspec": {
      "name": "python3",
      "display_name": "Python 3"
    },
    "language_info": {
      "name": "python"
    }
  },
  "cells": [
    {
      "cell_type": "markdown",
      "metadata": {
        "id": "view-in-github",
        "colab_type": "text"
      },
      "source": [
        "<a href=\"https://colab.research.google.com/github/gdjaveria/Assigments-project-04/blob/main/04_dictionaries.ipynb\" target=\"_parent\"><img src=\"https://colab.research.google.com/assets/colab-badge.svg\" alt=\"Open In Colab\"/></a>"
      ]
    },
    {
      "cell_type": "code",
      "execution_count": null,
      "metadata": {
        "id": "d1PxKtHyvYW4"
      },
      "outputs": [],
      "source": [
        "# 00_count_nums.......\n",
        "\n",
        "def count_numbers():\n",
        "  count_dict = {}\n",
        "\n",
        "  while True:\n",
        "      user_input = input('Enter a number (Exit or Quit..!)')\n",
        "      if user_input.lower() in ['exit','quit']:\n",
        "        break\n",
        "      if user_input.isdigit():\n",
        "        num = int(user_input)\n",
        "        count_dict[num] = count_dict.get(num,0) + 1\n",
        "      else:\n",
        "        print('Invalid input please enter a number or \"Exit\" to quit')\n",
        "  return count_dict\n",
        "\n",
        "def count_display(count_dict):\n",
        "  print('\\n Number Counts:')\n",
        "  for key,value in count_dict.items():\n",
        "    print(f'{key} appears {value} time(s)')\n",
        "\n",
        "if __name__ == \"__main__\":\n",
        "    counts = count_numbers()\n",
        "    count_display(counts)\n"
      ]
    },
    {
      "cell_type": "code",
      "source": [
        "# 01_phonebook...........\n",
        "\n",
        "def add_contact(phonebook):\n",
        "  name = input('Enter contact name:')\n",
        "  number = input('Enter contact number:')\n",
        "\n",
        "  if name in phonebook:\n",
        "    print(f'{name} its already exists in phonebook')\n",
        "  else:\n",
        "    phonebook[name] = number\n",
        "    print(f'{name} added to the phonebook')\n",
        "\n",
        "def search_contact(phonebook):\n",
        "  name = input('Enter contact name to search:')\n",
        "\n",
        "  if name in phonebook:\n",
        "    print(f'{name} : {phonebook[name]}')\n",
        "  else:\n",
        "    print(f'{name} not found in phonebook')\n",
        "\n",
        "\n",
        "def delete_contacts(phonebook):\n",
        "  name = input('Enter contact name to delete:')\n",
        "  if name in phonebook:\n",
        "    del phonebook[name]\n",
        "    print(f'{name} deteted from phonebook')\n",
        "  else:\n",
        "    print(f'{name} not found in phonebook')\n",
        "\n",
        "def display_contacts(phonebook):\n",
        "  if phonebook:\n",
        "    print('\\n Phonebook contacts list')\n",
        "    for name,number in phonebook.items():\n",
        "      print(f'{name}:{number}')\n",
        "  else:\n",
        "    print('Phonebook is empty')\n",
        "\n",
        "if __name__ == '__main__':\n",
        "   phonebook = {}\n",
        "\n",
        "   while True:\n",
        "      print('\\n phonebook menu')\n",
        "      print('1. Add contact')\n",
        "      print('2. Search contact')\n",
        "      print('3. Delete contact')\n",
        "      print('4. Display contacts')\n",
        "      print('5. Exits')\n",
        "\n",
        "      choice = input('Enter your choices (1-5):')\n",
        "\n",
        "      if choice == '1':\n",
        "        add_contact(phonebook)\n",
        "      elif choice == '2':\n",
        "        search_contact(phonebook)\n",
        "      elif choice == '3':\n",
        "        delete_contacts(phonebook)\n",
        "      elif choice == '4':\n",
        "        display_contacts(phonebook)\n",
        "      elif choice == '5':\n",
        "        print ('Exiting phonebook, Goodbye...!')\n",
        "        break\n",
        "      else:\n",
        "        print('Invalid options please choice a vaild options between 1 to 5.')"
      ],
      "metadata": {
        "id": "jPPsvq3f5BNt"
      },
      "execution_count": null,
      "outputs": []
    },
    {
      "cell_type": "code",
      "source": [
        "# 02_pop_up_shop..........\n",
        "\n",
        "def fruits_total_cost():\n",
        "  fruits_price = {\n",
        "      'apple':5.0,\n",
        "      'mango':15.0,\n",
        "      'banana':6.0,\n",
        "      'Kiwi':8.0,\n",
        "      'orange':10.0,\n",
        "      'pear':12.0,\n",
        "\n",
        "  }\n",
        "\n",
        "  total_cost =0\n",
        "\n",
        "  for fruit,price in fruits_price.items():\n",
        "    while True:\n",
        "      try:\n",
        "        quantity = int(input(f'How many {fruit} do you want '))\n",
        "        if quantity < 0:\n",
        "          print('Invalid input .please enter a non_negative number')\n",
        "          continue\n",
        "        total_cost += price * quantity\n",
        "        break\n",
        "      except ValueError:\n",
        "        print('Invalid input..please enter a valid number ')\n",
        "\n",
        "    print(f'\\n Your total cost is ${total_cost:.2f}')\n",
        "\n",
        "if __name__ == '__main__':\n",
        "    fruits_total_cost()"
      ],
      "metadata": {
        "id": "VdOm-rkB_3XO"
      },
      "execution_count": null,
      "outputs": []
    },
    {
      "cell_type": "code",
      "source": [
        "# 03_powerful_passwords..........\n",
        "\n",
        "import hashlib\n",
        "\n",
        "def hash_password(password):\n",
        "  return hashlib.sha256(password.encode()).hexdigest()\n",
        "\n",
        "sorted_logins = {\n",
        "    'user@example.com':hash_password('password16754'),\n",
        "    'admin@example.com' :hash_password('adminpass')\n",
        "}\n",
        "\n",
        "def login(email,password):\n",
        "    if email in sorted_logins:\n",
        "       return sorted_logins[email] == hash_password(password)\n",
        "    return False\n",
        "\n",
        "if __name__ ==\"__main__\":\n",
        "  email = input('Enter your email: ')\n",
        "  password = input('Enter your password: ')\n",
        "\n",
        "  if login(email,password):\n",
        "    print('Login sucessfull.....')\n",
        "  else:\n",
        "    print('Invalid email or password.....')"
      ],
      "metadata": {
        "id": "c6pVjGTpKILS"
      },
      "execution_count": null,
      "outputs": []
    }
  ]
}