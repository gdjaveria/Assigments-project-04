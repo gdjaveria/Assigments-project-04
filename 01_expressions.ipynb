{
  "nbformat": 4,
  "nbformat_minor": 0,
  "metadata": {
    "colab": {
      "provenance": [],
      "authorship_tag": "ABX9TyMiKudJHChu8i5OE6tGRPYf",
      "include_colab_link": true
    },
    "kernelspec": {
      "name": "python3",
      "display_name": "Python 3"
    },
    "language_info": {
      "name": "python"
    }
  },
  "cells": [
    {
      "cell_type": "markdown",
      "metadata": {
        "id": "view-in-github",
        "colab_type": "text"
      },
      "source": [
        "<a href=\"https://colab.research.google.com/github/gdjaveria/Assigments-project-04/blob/main/01_expressions.ipynb\" target=\"_parent\"><img src=\"https://colab.research.google.com/assets/colab-badge.svg\" alt=\"Open In Colab\"/></a>"
      ]
    },
    {
      "cell_type": "code",
      "execution_count": null,
      "metadata": {
        "colab": {
          "base_uri": "https://localhost:8080/"
        },
        "id": "l34DN0wTym3E",
        "outputId": "81c6ce1e-7350-4f4f-ae9d-7084e7f39e6b"
      },
      "outputs": [
        {
          "output_type": "stream",
          "name": "stdout",
          "text": [
            "dice1 in main() start as :10\n",
            "Toal of two dice: 10\n",
            "Toal of two dice: 6\n",
            "Toal of two dice: 8\n",
            "Toal of two dice: 8\n",
            "dice1 in main() is :10\n"
          ]
        }
      ],
      "source": [
        "# 01_dicesimulator............\n",
        "\n",
        "import random\n",
        "\n",
        "def roll_dice():\n",
        "  dice1:int = random.randint(1,6)\n",
        "  dice2: int = random.randint(1,6)\n",
        "  total_dice:int = dice1 + dice2\n",
        "  print(f'Toal of two dice: {total_dice}')\n",
        "\n",
        "def main ():\n",
        "    dice1:int = 10\n",
        "    print('dice1 in main() start as :' + str(dice1))\n",
        "    roll_dice()\n",
        "    roll_dice()\n",
        "    roll_dice()\n",
        "    roll_dice()\n",
        "\n",
        "    print('dice1 in main() is :' + str(dice1))\n",
        "\n",
        "if __name__ == '__main__':\n",
        "    main()\n"
      ]
    },
    {
      "cell_type": "code",
      "source": [
        "# 02_e=mc2............\n",
        "\n",
        "def energy():\n",
        "  c:int = 299792458\n",
        "  m:int = float(input('Enter mass in kg:'))\n",
        "  print (' e = m * C^2')\n",
        "  print ('Mass = '+ str(m) + 'kg')\n",
        "  print ('c = ' + str(c) + 'm/s')\n",
        "  print ('e = ' + str(m*c**2) + 'Joules')\n",
        "\n",
        "if __name__ == '__main__':\n",
        " energy()\n",
        "\n",
        "\n"
      ],
      "metadata": {
        "colab": {
          "base_uri": "https://localhost:8080/"
        },
        "id": "EasnVAdt2pAc",
        "outputId": "a8bca016-4f02-4616-9fda-a61cdae1c946"
      },
      "execution_count": null,
      "outputs": [
        {
          "output_type": "stream",
          "name": "stdout",
          "text": [
            "Enter mass in kg:45\n",
            " e = m * C^2\n",
            "Mass = 45.0kg\n",
            "c = 299792458m/s\n",
            "e = 4.044398304315679e+18Joules\n"
          ]
        }
      ]
    },
    {
      "cell_type": "code",
      "source": [
        "# 03_feet_to_inches..........\n",
        "\n",
        "inch: int = 12\n",
        "\n",
        "def feet_to_inches():\n",
        "  feet:int = int(input('Enter feet and it will be convert to inches:'))\n",
        "  print(f'There are {inch * feet} inches in {feet} feet.')\n",
        "\n",
        "\n",
        "if __name__ == \"__main__\":\n",
        "    feet_to_inches()"
      ],
      "metadata": {
        "id": "VzW5G9lE5DH9",
        "colab": {
          "base_uri": "https://localhost:8080/"
        },
        "outputId": "09bb96cd-29c1-41bb-e1fc-337300b24cbe"
      },
      "execution_count": null,
      "outputs": [
        {
          "output_type": "stream",
          "name": "stdout",
          "text": [
            "Enter feet and it will be convert to inches:40\n",
            "There are 480 inches in 40 feet.\n"
          ]
        }
      ]
    },
    {
      "cell_type": "code",
      "source": [
        "# 04_pythagorean_theorem.......\n",
        "\n",
        "import math\n",
        "\n",
        "def pythagorean_theorem():\n",
        "  ab:float = float(input('Enter the length of the side ab'))\n",
        "  bc:float =float(input('Enter the length of bc'))\n",
        "  ac:float = math.sqrt(ab**2 + bc**2)\n",
        "  print(f'The length of side ac is {ac}')\n",
        "\n",
        "if __name__ == \"__main__\":\n",
        "  pythagorean_theorem()"
      ],
      "metadata": {
        "id": "jqsRDjwn6Imb",
        "colab": {
          "base_uri": "https://localhost:8080/"
        },
        "outputId": "19968a95-a381-4d3f-98b8-593814e0f028"
      },
      "execution_count": null,
      "outputs": [
        {
          "output_type": "stream",
          "name": "stdout",
          "text": [
            "Enter the length of the side ab5.0\n",
            "Enter the length of bc4.3\n",
            "The length of side ac is6.594694837519018\n"
          ]
        }
      ]
    },
    {
      "cell_type": "code",
      "source": [
        "# 05_remainder_division...........\n",
        "\n",
        "def division_reminder():\n",
        "  num1:int = int(input('Enter the first number to be divided'))\n",
        "  num2:int = int(input('Enter the second number to divided by'))\n",
        "  quotient:int = num1 // num2\n",
        "  remainder:int = num1 % num2\n",
        "  print(f'The result of division is{quotient} and the remainder of {remainder}')\n",
        "\n",
        "if __name__ == \"__main__\":\n",
        "    division_reminder()\n"
      ],
      "metadata": {
        "id": "xLlB7n_W7hwF",
        "colab": {
          "base_uri": "https://localhost:8080/"
        },
        "outputId": "be8a35d4-7221-4b2b-e2b9-1a75fc078dcf"
      },
      "execution_count": null,
      "outputs": [
        {
          "output_type": "stream",
          "name": "stdout",
          "text": [
            "Enter the first number to be divided88\n",
            "Enter the second number to divided by5\n",
            "The result of division is17 and the remainder of 3\n"
          ]
        }
      ]
    },
    {
      "cell_type": "code",
      "source": [
        "# 06_rolldice.............\n",
        "\n",
        "def roll_dice():\n",
        "   dice1:int = random.randint(1,6)\n",
        "   dice2:int = random.randint(1,6)\n",
        "   total_dice:int =int(dice1 + dice2)\n",
        "   print('First die:' + str(dice1))\n",
        "   print('second die' + str(dice2))\n",
        "   print(f'The total of two dice is {total_dice}')\n",
        "\n",
        "if __name__ == \"__main__\":\n",
        "  roll_dice()\n"
      ],
      "metadata": {
        "id": "aRDcN3xRjbty",
        "colab": {
          "base_uri": "https://localhost:8080/"
        },
        "outputId": "3f75a501-9d94-4219-8503-1ca40d24b9e9"
      },
      "execution_count": null,
      "outputs": [
        {
          "output_type": "stream",
          "name": "stdout",
          "text": [
            "First die:1\n",
            "second die6\n",
            "The total of two dice is 7\n"
          ]
        }
      ]
    },
    {
      "cell_type": "code",
      "source": [
        "# 06_seconds_in_year.............\n",
        "\n",
        "days_in_year: int = 365\n",
        "hours_per_day: int = 24\n",
        "minutes_per_hour: int = 60\n",
        "seconds_per_minute: int = 60\n",
        "\n",
        "def seconds_in_year():\n",
        "  print(f'There are {days_in_year * hours_per_day * minutes_per_hour * seconds_per_minute} seconds in year')\n",
        "\n",
        "if __name__ == \"__main__\":\n",
        "    seconds_in_year()\n",
        "\n",
        "\n",
        "\n"
      ],
      "metadata": {
        "id": "tJW9HGMplqa2",
        "colab": {
          "base_uri": "https://localhost:8080/"
        },
        "outputId": "7707192a-1cb1-4d7b-cb19-6f66feb073dc"
      },
      "execution_count": null,
      "outputs": [
        {
          "output_type": "stream",
          "name": "stdout",
          "text": [
            "There are 31536000 seconds in year\n"
          ]
        }
      ]
    },
    {
      "cell_type": "code",
      "source": [
        "# 07_tiny_mad_lib..........\n",
        "\n",
        "def mad_lib():\n",
        "  noun:str = (input('Enter a noun '))\n",
        "  adjective:str = (input('Enter a adjective '))\n",
        "  verb:str = (input('Enter a verb '))\n",
        "  adverb:str = (input('Enter an adverb '))\n",
        "  print (f' Do you {verb} your {adverb} {adjective} {noun}? ')\n",
        "\n",
        "if __name__ == \"__main__\":\n",
        "    mad_lib()"
      ],
      "metadata": {
        "id": "r5U4_tLHoF8R",
        "colab": {
          "base_uri": "https://localhost:8080/"
        },
        "outputId": "5ef52625-ffa8-4d04-a7a7-0febc8bb0ce9"
      },
      "execution_count": null,
      "outputs": [
        {
          "output_type": "stream",
          "name": "stdout",
          "text": [
            "Enter a noun cat\n",
            "Enter a adjective kite\n",
            "Enter a verb garden\n",
            "Enter an adverb bad\n",
            " Do you garden your bad kite cat? \n"
          ]
        }
      ]
    },
    {
      "cell_type": "code",
      "source": [],
      "metadata": {
        "id": "C0Q1sOxzqJ-d"
      },
      "execution_count": null,
      "outputs": []
    }
  ]
}