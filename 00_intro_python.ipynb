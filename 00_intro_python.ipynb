{
  "nbformat": 4,
  "nbformat_minor": 0,
  "metadata": {
    "colab": {
      "provenance": [],
      "authorship_tag": "ABX9TyPRKTNl/JfLhqp9Raz0LCh4",
      "include_colab_link": true
    },
    "kernelspec": {
      "name": "python3",
      "display_name": "Python 3"
    },
    "language_info": {
      "name": "python"
    }
  },
  "cells": [
    {
      "cell_type": "markdown",
      "metadata": {
        "id": "view-in-github",
        "colab_type": "text"
      },
      "source": [
        "<a href=\"https://colab.research.google.com/github/gdjaveria/Assigments-project-04/blob/main/00_intro_python.ipynb\" target=\"_parent\"><img src=\"https://colab.research.google.com/assets/colab-badge.svg\" alt=\"Open In Colab\"/></a>"
      ]
    },
    {
      "cell_type": "code",
      "source": [
        "# 01_add_two_numbers........\n",
        "\n",
        "def add():\n",
        "  print('This function add two numbers...')\n",
        "  first_num = int(input('Enter your first number'))\n",
        "  second_num = int(input('Enter your second number'))\n",
        "  total_sum = int(first_num + second_num)\n",
        "  print(f'The total sum of {first_num} and {second_num} is {total_sum}')\n",
        "\n",
        "if __name__ == \"__main__\":\n",
        "  add()"
      ],
      "metadata": {
        "id": "EbX6TjM5A2gU",
        "colab": {
          "base_uri": "https://localhost:8080/"
        },
        "outputId": "41a520a0-3b2d-45a3-ef35-90606cae8ad0"
      },
      "execution_count": null,
      "outputs": [
        {
          "output_type": "stream",
          "name": "stdout",
          "text": [
            "This function add two numbers...\n",
            "Enter your first number3\n",
            "Enter your second number7\n",
            "The total sum of 3 and 7 is 10\n"
          ]
        }
      ]
    },
    {
      "cell_type": "code",
      "source": [
        "# 02_agreement_bot........\n",
        "\n",
        "def bot():\n",
        "  animal = str(input('Enter your favorite animal'))\n",
        "  print(f'My favourite animal is {animal}')\n",
        "\n",
        "  if __name__ == \"__main__\":\n",
        "    bot()"
      ],
      "metadata": {
        "id": "_73W0YzbnibG"
      },
      "execution_count": null,
      "outputs": []
    },
    {
      "cell_type": "code",
      "source": [
        "# 03_fahrenheit_to_celsius.........\n",
        "\n",
        "def temp ():\n",
        "  print('this is is convert temoreature fahrenheit to celsius')\n",
        "  fahrenheit_degree = float(input('Enter your faherheit degree'))\n",
        "  celsius_degrree = (fahrenheit_degree -32 )* 5.0/9.0\n",
        "  print(f'Tempreature {fahrenheit_degree}F = {celsius_degrree}C')\n",
        "\n",
        "  if __name__ == \"__main__\":\n",
        "    temp()"
      ],
      "metadata": {
        "id": "OAnVPgrGqlQk"
      },
      "execution_count": null,
      "outputs": []
    },
    {
      "cell_type": "code",
      "source": [
        "# 04_how_old_are_they.........\n",
        "\n",
        "def add_the_ages():\n",
        " anthon:int = 21\n",
        " beth:int = anthon + 6\n",
        " chan:int = beth + 20\n",
        " drew: int = chan + anthon\n",
        " ethan: int = chan\n",
        "\n",
        " print ('Anthon is'+ str(anthon))\n",
        " print('Beth is'+ str(beth))\n",
        " print('Chan is'+ str(chan))\n",
        " print('Drew is'+ str(drew))\n",
        " print('Ethan is' + str(ethan))\n",
        "\n",
        " if __name__ == \"__main__\":\n",
        "    add_the_ages()"
      ],
      "metadata": {
        "id": "d6pgsbjQoe88"
      },
      "execution_count": null,
      "outputs": []
    },
    {
      "cell_type": "code",
      "source": [
        "# 05_triangle_perimeter.........\n",
        "\n",
        "def triangle_perimeter():\n",
        "  print('This code show the perimeter of a triangle')\n",
        "  side1:float(input('Enter your first side no of triangle'))\n",
        "  side2:float(input('Enter your second side no of triangle'))\n",
        "  side3:float(input('Enter  your third side no of triangle'))\n",
        "  total_sides:float = float(side1 + side2 + side3)\n",
        "  print(f'The sum of{side1},{side2} and {side3} is {total_sides}')\n",
        "\n",
        "  if __name__ == \"__main__\":\n",
        "   triangle_perimeter()\n",
        "\n"
      ],
      "metadata": {
        "id": "hnUEwj_ptgql"
      },
      "execution_count": null,
      "outputs": []
    },
    {
      "cell_type": "code",
      "source": [
        "# 06_square_number........\n",
        "\n",
        "def square_num():\n",
        "  print('This code show a square of given number')\n",
        "  num1:int(input('Enter any number and and i give you the squarre value of that number'))\n",
        "  print(f'The square of {num1} is {num1 ** 2}')\n",
        "\n",
        "  if __name__ == \"__main__\":\n",
        "    square_num()"
      ],
      "metadata": {
        "id": "Op3PglZZwMkv"
      },
      "execution_count": null,
      "outputs": []
    }
  ]
}